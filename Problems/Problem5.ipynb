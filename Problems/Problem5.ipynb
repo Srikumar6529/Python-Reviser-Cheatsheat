{
  "nbformat": 4,
  "nbformat_minor": 0,
  "metadata": {
    "colab": {
      "provenance": []
    },
    "kernelspec": {
      "name": "python3",
      "display_name": "Python 3"
    },
    "language_info": {
      "name": "python"
    }
  },
  "cells": [
    {
      "cell_type": "markdown",
      "source": [
        "\n",
        "Problem\n",
        "\n",
        "Use a forloop to print a triangle like the one below. Allow the user to specify how high  \n",
        "the triangle should be.\n",
        "\n",
        "'*\n",
        "\n",
        "'**\n",
        "\n",
        "'***\n",
        "\n",
        "'****\n",
        "\n",
        "#IGNORE THOSE ( ' ) THERE IS A GLITCH IN COLAB\n",
        "\n",
        "Sample:\n",
        "\n",
        "sample input:\n",
        "\n",
        "Enter the height of the triangle: 4\n",
        "\n",
        "sample output:\n",
        "\n",
        "'*\n",
        "\n",
        "'**\n",
        "\n",
        "'***\n",
        "\n",
        "'****"
      ],
      "metadata": {
        "id": "2VvPfxGah8Ew"
      }
    },
    {
      "cell_type": "code",
      "execution_count": 2,
      "metadata": {
        "colab": {
          "base_uri": "https://localhost:8080/"
        },
        "id": "LtR0NV-bh1Bc",
        "outputId": "fc9b33ae-ed09-4f04-da31-f9d7a7c8c78a"
      },
      "outputs": [
        {
          "output_type": "stream",
          "name": "stdout",
          "text": [
            "Enter the height of the triangle: 4\n",
            "*\n",
            "**\n",
            "***\n",
            "****\n"
          ]
        }
      ],
      "source": [
        "height=int(input(\"Enter the height of the triangle: \"))\n",
        "for i in range(1,height+1):\n",
        "  for j in range(i):\n",
        "    print('*',end='')\n",
        "  print()"
      ]
    }
  ]
}