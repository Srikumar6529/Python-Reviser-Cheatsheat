{
  "nbformat": 4,
  "nbformat_minor": 0,
  "metadata": {
    "colab": {
      "provenance": []
    },
    "kernelspec": {
      "name": "python3",
      "display_name": "Python 3"
    },
    "language_info": {
      "name": "python"
    }
  },
  "cells": [
    {
      "cell_type": "markdown",
      "source": [
        "\n",
        "Problem\n",
        "\n",
        "Write a Python class to implement pow(x, n)."
      ],
      "metadata": {
        "id": "XfAgau6OqHEr"
      }
    },
    {
      "cell_type": "code",
      "execution_count": 1,
      "metadata": {
        "colab": {
          "base_uri": "https://localhost:8080/"
        },
        "id": "uJrfh3g1qFG9",
        "outputId": "a5c9fab6-e199-4a2c-92f5-0227d97953a2"
      },
      "outputs": [
        {
          "output_type": "stream",
          "name": "stdout",
          "text": [
            "2.0 raised to the power of -3 is: 0.125\n"
          ]
        }
      ],
      "source": [
        "class PowerCalculator:\n",
        "    def pow(self, x: float, n: int) -> float:\n",
        "\n",
        "        if n == 0:\n",
        "            return 1\n",
        "        elif n < 0:\n",
        "            x = 1 / x\n",
        "            n = -n\n",
        "\n",
        "        result = 1\n",
        "        current_product = x\n",
        "\n",
        "        while n > 0:\n",
        "            if n % 2 == 1:\n",
        "                result *= current_product\n",
        "            current_product *= current_product\n",
        "            n //= 2\n",
        "\n",
        "        return result\n",
        "\n",
        "\n",
        "if __name__ == \"__main__\":\n",
        "    calculator = PowerCalculator()\n",
        "    base = 2.0\n",
        "    exponent = -3\n",
        "    print(f\"{base} raised to the power of {exponent} is: {calculator.pow(base, exponent)}\")\n"
      ]
    }
  ]
}