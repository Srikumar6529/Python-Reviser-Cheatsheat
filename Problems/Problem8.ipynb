{
  "nbformat": 4,
  "nbformat_minor": 0,
  "metadata": {
    "colab": {
      "provenance": []
    },
    "kernelspec": {
      "name": "python3",
      "display_name": "Python 3"
    },
    "language_info": {
      "name": "python"
    }
  },
  "cells": [
    {
      "cell_type": "markdown",
      "source": [
        "Problem\n",
        "\n",
        " Write a function called sum_digitsthat is given an integer num and returns the sum of the\n",
        "digits of num.  \n",
        "\n",
        "Sample:\n",
        "\n",
        "sample input:\n",
        "\n",
        "Enter a number : 123\n",
        "\n",
        "sample output:\n",
        "\n",
        "sum of digits of number 123 is 6"
      ],
      "metadata": {
        "id": "hOR-Hj2XmTUi"
      }
    },
    {
      "cell_type": "code",
      "execution_count": 3,
      "metadata": {
        "colab": {
          "base_uri": "https://localhost:8080/"
        },
        "id": "R3O3JhJOmNhy",
        "outputId": "5234410c-82be-418d-b065-29c1b207d74a"
      },
      "outputs": [
        {
          "output_type": "stream",
          "name": "stdout",
          "text": [
            "Enter a number : 123\n",
            "sum of digits of number 123 is 6\n"
          ]
        }
      ],
      "source": [
        "def sum_digits(n):\n",
        "  sum_of_digits=0\n",
        "  while(n>0):\n",
        "    r=n%10\n",
        "    sum_of_digits+=r\n",
        "    n=n//10\n",
        "  return sum_of_digits\n",
        "\n",
        "num=int(input(\"Enter a number : \"))\n",
        "print('sum of digits of number',num,'is',sum_digits(num))"
      ]
    }
  ]
}