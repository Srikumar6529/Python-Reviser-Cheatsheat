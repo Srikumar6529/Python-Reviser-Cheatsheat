{
  "nbformat": 4,
  "nbformat_minor": 0,
  "metadata": {
    "colab": {
      "provenance": []
    },
    "kernelspec": {
      "name": "python3",
      "display_name": "Python 3"
    },
    "language_info": {
      "name": "python"
    }
  },
  "cells": [
    {
      "cell_type": "markdown",
      "source": [
        "Problem\n",
        "\n",
        "Write a program that uses a for loop to print the numbers 8, 11, 14, 17, 20, . . . , 83, 86, 89.\n",
        "\n",
        "Sample:\n",
        "\n",
        "sample output:\n",
        "\n",
        "8,11,14,17,20,23,26,29,32,35,38,41,44,47,50,53,56,59,62,65,68,71,74,77,80,83,86,89"
      ],
      "metadata": {
        "id": "R-ckMdnafX8Y"
      }
    },
    {
      "cell_type": "markdown",
      "source": [
        "As we can see the above series starts with 8 and end with 89, each number has a difference of 3."
      ],
      "metadata": {
        "id": "3NRM3tdXfhr7"
      }
    },
    {
      "cell_type": "code",
      "execution_count": 2,
      "metadata": {
        "colab": {
          "base_uri": "https://localhost:8080/"
        },
        "id": "8TFnIUiCfVyi",
        "outputId": "f3f0db50-0625-4996-896b-9892c8f18446"
      },
      "outputs": [
        {
          "output_type": "stream",
          "name": "stdout",
          "text": [
            "8,11,14,17,20,23,26,29,32,35,38,41,44,47,50,53,56,59,62,65,68,71,74,77,80,83,86,89\n"
          ]
        }
      ],
      "source": [
        "for i in range(8,89,3):\n",
        "  print(i,end=',')\n",
        "print(i+3)"
      ]
    }
  ]
}