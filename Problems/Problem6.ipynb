{
  "nbformat": 4,
  "nbformat_minor": 0,
  "metadata": {
    "colab": {
      "provenance": []
    },
    "kernelspec": {
      "name": "python3",
      "display_name": "Python 3"
    },
    "language_info": {
      "name": "python"
    }
  },
  "cells": [
    {
      "cell_type": "markdown",
      "source": [
        "Problem\n",
        "\n",
        "Generate a random number between 1 and 10. Ask the user to guess the number and print\n",
        "a message based on whether they get it right or not.\n",
        "\n",
        "Sample:\n",
        "\n",
        "sample input:\n",
        "\n",
        "Enter a number between 1 and 10: 5\n",
        "\n",
        "\n",
        "sample output 1:\n",
        "\n",
        "Sorry, it's a wrong guess.\n",
        "\n",
        "sample output 2:\n",
        "\n",
        "Yay!! you guessed it right."
      ],
      "metadata": {
        "id": "7In6gyxijmen"
      }
    },
    {
      "cell_type": "code",
      "execution_count": 1,
      "metadata": {
        "colab": {
          "base_uri": "https://localhost:8080/"
        },
        "id": "1ywK23s-jl_a",
        "outputId": "502c2fba-cb3c-49bd-d2ac-570a7f087801"
      },
      "outputs": [
        {
          "output_type": "stream",
          "name": "stdout",
          "text": [
            "Enter a number between 1 and 10: 5\n",
            "Sorry, it's a wrong guess.\n"
          ]
        }
      ],
      "source": [
        "import random\n",
        "number = random.randint(1,11)\n",
        "guess=int(input(\"Enter a number between 1 and 10: \"))\n",
        "\n",
        "if guess==number:\n",
        "  print('Yay!! you guessed it right.')\n",
        "else:\n",
        "  print('Sorry, it\\'s a wrong guess.')"
      ]
    }
  ]
}