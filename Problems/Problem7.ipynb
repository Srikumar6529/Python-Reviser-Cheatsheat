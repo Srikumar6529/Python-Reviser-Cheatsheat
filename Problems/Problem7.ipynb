{
  "nbformat": 4,
  "nbformat_minor": 0,
  "metadata": {
    "colab": {
      "provenance": []
    },
    "kernelspec": {
      "name": "python3",
      "display_name": "Python 3"
    },
    "language_info": {
      "name": "python"
    }
  },
  "cells": [
    {
      "cell_type": "markdown",
      "source": [
        "\n",
        "Problem\n",
        "\n",
        "Write a program that asks the user for an integer and creates a list that consists of the factors of that integer.\n",
        "\n",
        "Sample:\n",
        "\n",
        "sample input:\n",
        "\n",
        "Enter a number : 10\n",
        "\n",
        "sample output:\n",
        "\n",
        "The factors of the number 10 are:\n",
        "\n",
        "[1, 2, 5, 10]"
      ],
      "metadata": {
        "id": "VhHMZD27lCDh"
      }
    },
    {
      "cell_type": "code",
      "execution_count": 2,
      "metadata": {
        "colab": {
          "base_uri": "https://localhost:8080/"
        },
        "id": "fQBWVSGZlAhS",
        "outputId": "d6c3e31f-4d27-4c05-def6-1d764c7b494f"
      },
      "outputs": [
        {
          "output_type": "stream",
          "name": "stdout",
          "text": [
            "Enter a number : 10\n",
            "The factors of the number 10 are:\n",
            "[1, 2, 5, 10]\n"
          ]
        }
      ],
      "source": [
        "number=int(input(\"Enter a number : \"))\n",
        "factors=[]\n",
        "for i in range(1,number+1):\n",
        "  if number%i==0:\n",
        "    factors.append(i)\n",
        "print('The factors of the number',number,'are:')\n",
        "print(factors)"
      ]
    }
  ]
}