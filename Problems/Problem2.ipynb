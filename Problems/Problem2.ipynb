{
  "nbformat": 4,
  "nbformat_minor": 0,
  "metadata": {
    "colab": {
      "provenance": []
    },
    "kernelspec": {
      "name": "python3",
      "display_name": "Python 3"
    },
    "language_info": {
      "name": "python"
    }
  },
  "cells": [
    {
      "cell_type": "markdown",
      "source": [
        "Problem\n",
        "\n",
        "Write a program that asks the user to enter three numbers (use three separate input\n",
        "statements). Create variables called total and average that hold the sum and average of the\n",
        "three numbers and print out the values of total and average.\n",
        "\n",
        "Sample:\n",
        "\n",
        "sample input:\n",
        "\n",
        "Enter value 1 : 10\n",
        "\n",
        "Enter value 2 : 23\n",
        "\n",
        "Enter value 3 : 33\n",
        "\n",
        "sample output:\n",
        "\n",
        "sum = 66.0\n",
        "\n",
        "Average = 22.0"
      ],
      "metadata": {
        "id": "fmswZoWKdqxH"
      }
    },
    {
      "cell_type": "code",
      "execution_count": 3,
      "metadata": {
        "colab": {
          "base_uri": "https://localhost:8080/"
        },
        "id": "nnfdljfOdprq",
        "outputId": "0f2c47d9-bf18-4019-a7e4-7e4cae69431c"
      },
      "outputs": [
        {
          "output_type": "stream",
          "name": "stdout",
          "text": [
            "Enter value 1 : 1\n",
            "Enter value 2 : 2\n",
            "Enter value 3 : 3\n",
            "sum = 6.0\n",
            "Average = 2.0\n"
          ]
        }
      ],
      "source": [
        "value1=float(input(\"Enter value 1 : \"))\n",
        "value2=float(input(\"Enter value 2 : \"))\n",
        "value3=float(input(\"Enter value 3 : \"))\n",
        "\n",
        "sum=value1 + value2 + value3\n",
        "\n",
        "average=(sum)/3\n",
        "\n",
        "print(\"sum =\",sum)\n",
        "\n",
        "print(\"Average =\",average)\n",
        "\n"
      ]
    }
  ]
}