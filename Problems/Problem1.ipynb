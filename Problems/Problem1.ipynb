{
  "nbformat": 4,
  "nbformat_minor": 0,
  "metadata": {
    "colab": {
      "provenance": []
    },
    "kernelspec": {
      "name": "python3",
      "display_name": "Python 3"
    },
    "language_info": {
      "name": "python"
    }
  },
  "cells": [
    {
      "cell_type": "markdown",
      "source": [
        "Problem\n",
        "Write a program that asks the user for a weight in kilograms and converts it to pounds.\n",
        "There are 2.2 pounds in a kilogram.\n",
        "\n",
        "Sample:\n",
        "\n",
        "\n",
        "sample input:\n",
        "\n",
        "\n",
        "Enter weight in kilograms(kg):10\n",
        "\n",
        "\n",
        "sample output:\n",
        "\n",
        "\n",
        "10.0 kg is 22.0 pounds"
      ],
      "metadata": {
        "id": "Fgoc3hiCXk-e"
      }
    },
    {
      "cell_type": "code",
      "execution_count": 3,
      "metadata": {
        "colab": {
          "base_uri": "https://localhost:8080/"
        },
        "id": "RBZpxPNuXYw8",
        "outputId": "ac043e5d-e933-46ca-ffcb-ac0e495a3ec7"
      },
      "outputs": [
        {
          "output_type": "stream",
          "name": "stdout",
          "text": [
            "Enter weight in kilograms(kg):10\n",
            "10.0 kg is 22.0 pounds\n"
          ]
        }
      ],
      "source": [
        "input_kg=float(input(\"Enter weight in kilograms(kg):\"))\n",
        "output_pounds=2.2*input_kg\n",
        "print(input_kg,\"kg is\",output_pounds,\"pounds\")"
      ]
    }
  ]
}