{
  "nbformat": 4,
  "nbformat_minor": 0,
  "metadata": {
    "colab": {
      "provenance": []
    },
    "kernelspec": {
      "name": "python3",
      "display_name": "Python 3"
    },
    "language_info": {
      "name": "python"
    }
  },
  "cells": [
    {
      "cell_type": "markdown",
      "source": [
        "Problem\n",
        "\n",
        "Write a program that asks the user for their name and how many times to print it. The\n",
        "program should print out the user’s name the specified number of times.\n",
        "\n",
        "Sample:\n",
        "\n",
        "sample input:\n",
        "\n",
        "Enter your name: abz\n",
        "\n",
        "Enter the number of times u want to print it: 5\n",
        "\n",
        "sample output:\n",
        "\n",
        "abz\n",
        "\n",
        "abz\n",
        "\n",
        "abz\n",
        "\n",
        "abz\n",
        "\n",
        "abz"
      ],
      "metadata": {
        "id": "16rZDya4grsl"
      }
    },
    {
      "cell_type": "code",
      "execution_count": 3,
      "metadata": {
        "colab": {
          "base_uri": "https://localhost:8080/"
        },
        "id": "HdGw7eHsgpP6",
        "outputId": "c7eb5fc8-6c9d-4966-d42e-adaadc6b6fd4"
      },
      "outputs": [
        {
          "output_type": "stream",
          "name": "stdout",
          "text": [
            "Enter your name: abz\n",
            "Enter the number of times u want to print it: 5\n",
            "abz\n",
            "abz\n",
            "abz\n",
            "abz\n",
            "abz\n"
          ]
        }
      ],
      "source": [
        "name=input(\"Enter your name: \")\n",
        "count=int(input(\"Enter the number of times u want to print it: \"))\n",
        "\n",
        "while(count>0):\n",
        "  print(name)\n",
        "  count-=1 #this means 'count=count-1'"
      ]
    }
  ]
}