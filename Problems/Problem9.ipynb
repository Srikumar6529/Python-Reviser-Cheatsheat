{
  "nbformat": 4,
  "nbformat_minor": 0,
  "metadata": {
    "colab": {
      "provenance": []
    },
    "kernelspec": {
      "name": "python3",
      "display_name": "Python 3"
    },
    "language_info": {
      "name": "python"
    }
  },
  "cells": [
    {
      "cell_type": "markdown",
      "source": [
        "Problem\n",
        "\n",
        "Write a program that reads a list of temperatures from a file called temps.txt, converts  \n",
        "those temperatures to Fahrenheit, and writes the results to a file called ftemps.txt.\n"
      ],
      "metadata": {
        "id": "QTszTEy5oyGr"
      }
    },
    {
      "cell_type": "code",
      "execution_count": 2,
      "metadata": {
        "colab": {
          "base_uri": "https://localhost:8080/"
        },
        "id": "5kpvkI5Sns9f",
        "outputId": "685f54f6-cd7d-4d1b-c3fb-8d2ab98f0a7c"
      },
      "outputs": [
        {
          "output_type": "stream",
          "name": "stdout",
          "text": [
            "Conversion completed. Fahrenheit temperatures written to ftemps.txt.\n"
          ]
        }
      ],
      "source": [
        "def celsius_to_fahrenheit(celsius):\n",
        "    return (celsius * 9/5) + 32\n",
        "\n",
        "try:\n",
        "    with open('temps.txt', 'r') as infile:\n",
        "        celsius_temps = [float(line.strip()) for line in infile]\n",
        "except FileNotFoundError:\n",
        "    print(\"Error: temps.txt not found.\")\n",
        "    exit(1)\n",
        "except ValueError:\n",
        "    print(\"Error: temps.txt contains invalid data.\")\n",
        "    exit(1)\n",
        "\n",
        "fahrenheit_temps = [celsius_to_fahrenheit(temp) for temp in celsius_temps]\n",
        "\n",
        "with open('ftemps.txt', 'w') as outfile:\n",
        "    for temp in fahrenheit_temps:\n",
        "        outfile.write(f\"{temp:.2f}\\n\")\n",
        "\n",
        "print(\"Conversion completed. Fahrenheit temperatures written to ftemps.txt.\")\n"
      ]
    }
  ]
}